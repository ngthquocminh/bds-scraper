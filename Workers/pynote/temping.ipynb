{
 "cells": [
  {
   "cell_type": "code",
   "execution_count": 35,
   "metadata": {},
   "outputs": [],
   "source": [
    "from urllib.request import urlopen\n",
    "\n",
    "import urllib.request\n",
    "request_url = urllib.request.urlopen('https://nhadat247.com.vn/ban-can-ho-chung-cu/ban-nha-le-duc-tho-44m2-ngo-thong-kinh-doanho-to-qua-nha-gia-4-2-ty-pr86861.html')\n",
    "html = request_url.read().decode(\"utf8\")"
   ]
  },
  {
   "cell_type": "code",
   "execution_count": 36,
   "metadata": {},
   "outputs": [],
   "source": [
    "import html_text\n",
    "\n",
    "text = html_text.extract_text(html)"
   ]
  },
  {
   "cell_type": "code",
   "execution_count": 37,
   "metadata": {},
   "outputs": [
    {
     "name": "stdout",
     "output_type": "stream",
     "text": [
      "Bán Nhà Lê Đức Thọ 44m2 ngỗ thông kinh doanh,ô tô qua nhà giá 4.2 tỷ\n",
      "\n",
      "Hôm nay, ngày 03/04/2021 18:46:24 - Hotline: 0909168379\n",
      "\n",
      "Đăng nhập\n",
      "Đăng ký\n",
      "+ Đăng tin\n",
      "\n",
      "Nhà Đất Bán\n",
      "\n",
      "Bán căn hộ chung cư\n",
      "Bán nhà riêng\n",
      "Bán nhà biệt thự, liền kề\n",
      "Bán nhà mặt phố\n",
      "Bán đất nền dự án\n",
      "Bán đất\n",
      "Bán trang trại, khu nghỉ dưỡng\n",
      "Bán kho, nhà xưởng\n",
      "Bán loại bất động sản khác\n",
      "\n",
      "Nhà đất cho thuê\n",
      "\n",
      "Cho thuê căn hộ chung cư\n",
      "Cho thuê nhà riêng\n",
      "Cho thuê nhà mặt phố\n",
      "Cho thuê nhà trọ, phòng trọ\n",
      "Cho thuê văn phòng\n",
      "Cho thuê cửa hàng, ki ốt\n",
      "Cho thuê kho, nhà xưởng, đất\n",
      "Cho thuê loại bất động sản khác\n",
      "\n",
      "Dự án\n",
      "\n",
      "Căn hộ, chung cư\n",
      "Cao ốc văn phòng\n",
      "Khu thương mại dịch vụ\n",
      "Khu đô thị mới\n",
      "Khu phức hợp\n",
      "Khu dân cư\n",
      "Khu du lịch nghỉ dưỡng\n",
      "Khu công nghiệp\n",
      "Dự án khác\n",
      "Biệt thự, liền kề\n",
      "\n",
      "Tin tức\n",
      "\n",
      "Tin thị trường\n",
      "Chính sách - Quy Hoạch\n",
      "Tin dự án\n",
      "BĐS Thế giới\n",
      "Lời khuyên\n",
      "Phân tích - nhận định\n",
      "\n",
      "Thiết kế kiến trúc\n",
      "\n",
      "Tư vấn thiết kế\n",
      "Kiến thức xây dựng\n",
      "Thế giới kiến trúc\n",
      "Vật liệu xây dựng\n",
      "Giải pháp xây dựng\n",
      "\n",
      "Không gian sống\n",
      "\n",
      "Nhà đẹp\n",
      "Nội thất\n",
      "Ngoại thất\n",
      "Mách bạn\n",
      "\n",
      "Phong thủy\n",
      "\n",
      "Phong thủy nhà ở\n",
      "Phong thủy văn phòng\n",
      "Tư vấn phong thủy\n",
      "Phong thủy theo tuổi, năm sinh\n",
      "\n",
      "Tư vấn luật\n",
      "\n",
      "Bán Nhà Lê Đức Thọ 44m2 ngỗ thông kinh doanh,ô tô qua nhà giá 4.2 tỷ\n",
      "\n",
      "Bán Nhà Lê Đức Thọ 44m2 ngỗ thông kinh doanh,ô tô qua nhà giá 4.2 tỷ\n",
      "\n",
      "Khu vực: Bán căn hộ chung cư tại Đường Lê Đức Thọ - Phường Mỹ Đình 1 - Nam Từ Liêm - Hà Nội\n",
      "Giá: 4.2 Tỷ Diện tích: 44 m²\n",
      "ID: 86861 | hôm nay| 199\n",
      "\n",
      "Thông tin mô tả\n",
      "\n",
      "Bán gấp nhà Sổ đỏ chính chủ 44m2 x 5 tầng x 4.5m Mặt tiền, ngõ 4m, thông kinh doanh nhộn nhịp, tọa lạc tại phường Mỹ Đình 2, quận Nam Từ Liêm, Hà Nội.Khu vực đông dân cư , sinh viên.ĐẶC Biệt tới cuối năm MỸ ĐÌNH LÀ PHỐ ĐI BỘ .\n",
      "Cách bến xe Mỹ Đình khoảng 1km. Xung quanh tập trung rất nhiều,khu vui chơi , nhà hàng trung tâm mua sắm, gần trường đại học, các khối cơ quan, công ty, doanh nghiệp,khu liên hiệp thể thao, bệnh viện thể thao , 19-8 .... tại đây đang rất phát truyển lên dễ kinh doanh hoặc cho thuê.\n",
      "Giá bán 4.2 tỷ bao sang sổ.VỊ TRÍ quá đẹp không mua thì MUA Ở ĐÂU.\n",
      "Thiện chí thì gặp trực tiếp chủ để thương lượng 0963878477.0825806999\n",
      "Liên hệ: 0825 806 999 08258*** hiện số\n",
      "Hình ảnh (4)\n",
      "\n",
      "Đặc điểm bất động sản\n",
      "\n",
      "Loại tin rao Bán căn hộ chung cư\n",
      "Pháp lý\n",
      "Hướng nhà\n",
      "Hướng ban công\n",
      "Số phòng 5\n",
      "Đường vào 4.5 m\n",
      "Mặt tiền 4.5 m\n",
      "Số tầng 5\n",
      "Số toilet 5\n",
      "Nội thất\n",
      "\n",
      "Thông tin liên hệ\n",
      "\n",
      "Tên liên hệ: Trần Văn Hùng\n",
      "Loại tin: Môi giới\n",
      "Địa chỉ: Nam Từ Liêm\n",
      "Tỉnh thành Hà Nội\n",
      "Điện thoại: 0825806999\n",
      "Email: hungbdsnamviet@gmail.com\n",
      "\n",
      "Lưu ý\n",
      "\n",
      "Quý vị đang xem nội dung tin rao \" Bán Nhà Lê Đức Thọ 44m2 ngỗ thông kinh doanh,ô tô qua nhà giá 4.2 tỷ\". Mọi thông tin liên quan tới tin rao này là do người đăng tin đăng tải và chịu trách nhiệm. Chúng tôi luôn cố gắng để có chất lượng thông tin tốt nhất, nhưng chúng tôi không đảm bảo và không chịu trách nhiệm về bất kỳ nội dung nào liên quan tới tin rao này. Nếu quý vị phát hiện có sai sót hay vấn đề gì xin hãy thông báo cho chúng tôi.\n",
      "\n",
      "Tin đăng khác\n",
      "\n",
      "Bán nhà mặt phố Khâm Thiên 85m, mặt tiền 5m,giá 21 tỷ 500 triệu.\n",
      "Giá: 21,5 Tỷ\n",
      "Đống Đa - Hà Nội\n",
      "Hơn 6 tỷ có ngay nhà mặt phố Hà Đông, 5 tầng kinh doanh, cạnh KĐT Văn Phú.\n",
      "Giá: 6 Tỷ\n",
      "Hà Đông - Hà Nội\n",
      "Nhà Bồ Đề nội thất hảo hạng, cạnh hồ, rộng rãi, ở sướng\n",
      "Giá: 5,6 Tỷ\n",
      "Long Biên - Hà Nội\n",
      "Bán Nhà Hoàng Cầu 55m2*6T. 2 Thoáng, 5m Oto Đỗ 5.15 Tỷ.\n",
      "Giá: 5,15 Tỷ\n",
      "Đống Đa - Hà Nội\n",
      "Bán đất Cầu Diễn, lô góc phân lô, ngõ thông, Ô tô vào nhà, DT 46m2, giá 4.5 tỷ\n",
      "Giá: 4,5 Tỷ\n",
      "Bắc Từ Liêm - Hà Nội\n",
      "Chính chủ cần bán. Kim Ngưu. Ôt ô đỗ cửa. 48m2 giá 5,2 tỷ\n",
      "Giá: 5,2 Tỷ\n",
      "Hai Bà Trưng - Hà Nội\n",
      "BÁN NHÀ VÕ CHÍ CÔNG 50M2, 5 TẦNG VỈA HÈ, MT 5M, GIÁ 11 TỶ\n",
      "Giá: 11 Tỷ\n",
      "Tây Hồ - Hà Nội\n",
      "TÌM CHỒNG CHO 2 EM GÁI SONG SINH Ở NGỌC HỒI: 33M,4T CHỈ 1,6 TỶ! 50M RA Ô TÔ! 0969282688\n",
      "Giá: 1,65 Tỷ\n",
      "Thanh Trì - Hà Nội\n",
      "HƠN 70 TR/M2 – BIỆT THỰ 4 TẦNG – KHU ĐTM LINH ĐÀM\n",
      "Giá: 17 Tỷ\n",
      "Hoàng Mai - Hà Nội\n",
      "Chỉ nhỉnh 2 tỷ có ngay nhà Mỹ Đình. Sổ nở hậu đẹp\n",
      "Giá: 2,75 Tỷ\n",
      "Nam Từ Liêm - Hà Nội\n",
      "Xem tất cả\n",
      "-\n",
      "\n",
      "bình luận\n",
      "\n",
      "Facebook\n",
      "BĐS bán\n",
      "BĐS thuê\n",
      "Loại bất động sản Tỉnh/Thành phố Hồ Chí Minh Hà Nội Bình Dương Đà Nẵng Hải Phòng Long An Bà Rịa Vũng Tàu An Giang Bắc Giang Bắc Kạn Bạc Liêu Bắc Ninh Bến Tre Bình Định Bình Phước Bình Thuận Cà Mau Cần Thơ Cao Bằng Đắk Lắk Đắk Nông Điện Biên Đồng Nai Đồng Tháp Gia Lai Hà Giang Hà Nam Hà Tĩnh Hải Dương Hậu Giang Hòa Bình Hưng Yên Khánh Hòa Kiên Giang Kon Tum Lai Châu Lâm Đồng Lạng Sơn Lào Cai Nam Định Nghệ An Ninh Bình Ninh Thuận Phú Thọ Phú Yên Quảng Bình Quảng Nam Quảng Ngãi Quảng Ninh Quảng Trị Sóc Trăng Sơn La Tây Ninh Thái Bình Thái Nguyên Thanh Hóa Thừa Thiên Huế Tiền Giang Trà Vinh Tuyên Quang Vĩnh Long Vĩnh Phúc Yên Bái?> Quận/Huyện Đường/Phố\n",
      "Diện tích Dưới 30 m² Từ 30 đến 50 m² Từ 50 đến 80 m² Từ 80 đến 100 m² Từ 100 đến 150 m² Từ 150 đến 200 m² Từ 200 đến 250 m² Từ 250 đến 300 m² Từ 300 đến 500 m² Trên 500 m² Mức giá nhỏ hơn 1 trăm triệu Từ 1 đến 2 trăm triệu Từ 2 đến 3 trăm triệu Từ 3 đến 5 trăm triệu Từ 5 đến 7 trăm triệu Từ 7 đến 1 tỷ Từ 1 đến 2 tyr Từ 2 đến 3 tỷ Lớn hơn 3 tỷ Số phòng ngủ 1+ 2+ 3+ 4+ 5+\n",
      "\n",
      "Bán căn hộ chung cư theo Thị trấn tại Nam Từ Liêm\n",
      "\n",
      "Cầu Diễn (4)\n",
      "\n",
      "Đại Mỗ (7)\n",
      "\n",
      "Mễ Trì (2)\n",
      "\n",
      "Mỹ Đình 1 (9)\n",
      "\n",
      "Mỹ Đình 2 (3)\n",
      "\n",
      "Phú Đô\n",
      "\n",
      "Phương Canh\n",
      "\n",
      "Tây Mỗ (3)\n",
      "\n",
      "Trung Văn (3)\n",
      "\n",
      "Xuân Phương\n",
      "\n",
      "NHÀ ĐẤT KHU VỰC\n",
      "\n",
      "NHÀ BÁN\n",
      "\n",
      "TP. Hồ Chí Minh\n",
      "Hà Nội\n",
      "Đà Nẵng\n",
      "Bình Dương\n",
      "Đồng Nai\n",
      "Các tỉnh khác\n",
      "\n",
      "ĐẤT BÁN\n",
      "\n",
      "TP. Hồ Chí Minh\n",
      "Hà Nội\n",
      "Đà Nẵng\n",
      "Bình Dương\n",
      "Đồng Nai\n",
      "Các tỉnh khác\n",
      "\n",
      "NHÀ CHO THUÊ\n",
      "\n",
      "TP. Hồ Chí Minh\n",
      "Hà Nội\n",
      "Các tỉnh khác\n",
      "\n",
      "CĂN HỘ CHO THUÊ\n",
      "\n",
      "TP. Hồ Chí Minh\n",
      "Hà Nội\n",
      "Các tỉnh khác\n",
      "\n",
      "VĂN PHÒNG CHO THUÊ\n",
      "\n",
      "Hà Nội\n",
      "Các tỉnh khác\n",
      "\n",
      "PHÒNG TRỌ CHO THUÊ\n",
      "\n",
      "TP. Hồ Chí Minh\n",
      "Hà Nội\n",
      "Các tỉnh khác\n",
      "\n",
      "Giới thiệu\n",
      "Hướng dẫn sử dụng\n",
      "Quy định, chính sách\n",
      "Quảng cáo\n",
      "Bảng Giá Tin Đăng\n",
      "Liên hệ\n",
      "\n",
      "Nhadat247.com.vn cung cấp thông tin mua, bán, cho thuê, nhà đất, bất động sản, địa ốc, chung cư, ...\n",
      "\n",
      "Nơi kết nối người bán và người mua bất động sản. Liên hệ trực tiếp người đăng tin. Nhadat247.com.vn không chịu trách nhiệm với các tin đăng.\n",
      "\n",
      "Hotline: 0909168379\n",
      "\n",
      "Email: hotro@nhadat247.com.vn Zalo: 0901415247\n",
      "\n",
      "Địa chỉ: Nhadat247.com.vn\n",
      "\n",
      "Copyright © 2010 - 2021 Sàn giao dịch bất động sản Nhadat247.com.vn\n",
      "Hotline: 0909168379 (kỹ thuật) - Zalo: 0901415247 (Zalo)\n",
      "Bảng giá tin đăng\n",
      "Tư vấn online\n",
      "0825806999\n",
      "Tin đã lưu\n"
     ]
    }
   ],
   "source": [
    "print(text)"
   ]
  },
  {
   "cell_type": "code",
   "execution_count": 26,
   "metadata": {},
   "outputs": [],
   "source": [
    "import pymongo\n",
    "\n",
    "myclient = pymongo.MongoClient(\"mongodb://synapselynk:SaHj2L86s2pC0YvvAdV26u25M74RDhaWhUglTyRsuKa0xrcFdfh9y1RZkTZQX55F12bpd6Dc3WqlBWWcvCI32Q==@synapselynk.mongo.cosmos.azure.com:10255/?ssl=true&replicaSet=globaldb&retrywrites=false&maxIdleTimeMS=120000&appName=@synapselynk@\")\n",
    "mydb = myclient[\"bds_database\"]\n",
    "mycol = mydb[\"parse_data\"]\n"
   ]
  },
  {
   "cell_type": "code",
   "execution_count": 63,
   "metadata": {},
   "outputs": [
    {
     "data": {
      "text/plain": [
       "250"
      ]
     },
     "execution_count": 63,
     "metadata": {},
     "output_type": "execute_result"
    }
   ],
   "source": [
    "import matplotlib.pyplot as plt\n",
    "import numpy as np\n",
    "import math\n",
    "  \n",
    "# Creating vectors X and Y\n",
    "# x = np.linspace(-2, 2, 100)\n",
    "x = 10000000000000000\n",
    "a = 250\n",
    "y = a * x / math.sqrt(x**2 + 500000*x + 10000)\n",
    "round(y)\n",
    "# fig = plt.figure(figsize = (10, 5))\n",
    "# # Create the plot\n",
    "# plt.plot(x, y)\n",
    "  \n",
    "# # Show the plot\n",
    "# plt.show()\n",
    "\n"
   ]
  },
  {
   "cell_type": "code",
   "execution_count": 100,
   "metadata": {},
   "outputs": [
    {
     "data": {
      "text/plain": [
       "121"
      ]
     },
     "execution_count": 100,
     "metadata": {},
     "output_type": "execute_result"
    }
   ],
   "source": [
    "a = \"Sang la\\u0323i sua\\u0302\\u0301t ta\\u0301i \\u0111i\\u0323nh cu\\u031b ga\\u0302\\u0300n Sa\\u0302n bay Long Tha\\u0300nh B\\u00e1n \\u0111\\u1ea5t n\\u1ec1n d\\u1ef1 \\u00e1n Sang la\\u0323i sua\\u0302\\u0301t ta\\u0301i \\u0111i\\u0323nh cu\\u031b ga\\u0302\\u0300n Sa\\u0302n bay Long Tha\\u0300nh gia\\u0301 tha\\u0302\\u0301p ho\\u031bn thi\\u0323 tru\\u031bo\\u031b\\u0300ng 30% \\u0110a\\u0302\\u0301t \\u0111a\\u0303 co\\u0301 so\\u0302\\u0309 ho\\u0302\\u0300ng Ca\\u0301ch \\u0111u\\u031bo\\u031b\\u0300ng Quo\\u0302\\u0301c lo\\u0323\\u0302 51 chi\\u0309 1,5km Lie\\u0302\\u0300n ke\\u0302\\u0300 sie\\u0302u du\\u031b\\u0323 a\\u0301n D2D Lo\\u0323\\u0302c An Gia\\u0301 \\u0111a\\u0302\\u0300u tu\\u031b lu\\u031bo\\u031b\\u0301t hay giu\\u031b\\u0303 theo tie\\u0302\\u0301n \\u0111o\\u0323\\u0302 sa\\u0302n bay \\u0111e\\u0302\\u0300u ra\\u0302\\u0301t to\\u0302\\u0301t Chi\\u0309 1,8 ti\\u0309. Co\\u0301 lo\\u0302 go\\u0301c Lie\\u0302n he\\u0323\\u0302 ngay \\u0111e\\u0302\\u0309 \\u0111a\\u0323\\u0306t cho\\u0302\\u0303 0966030102  Li\\u00ean h\\u1ec7:  0966 030 10209660*** hi\\u1ec7n s\\u1ed1 \\u0110\\u1ed6 V\\u0102N TRUNG 18 Tri\\u1ec7u /m\\u00b2 B\\u00e1n \\u0111\\u1ea5t n\\u1ec1n d\\u1ef1 \\u00e1n t\\u1ea1i \\u0110\\u01b0\\u1eddng 769 - X\\u00e3 L\\u1ed9c An -  Long Th\\u00e0nh -  \\u0110\\u1ed3ng Nai 100 m\\u00b2 31/03/2021 0966030102 5 m\"\n",
    "a[570:580]\n",
    "\n",
    "len(\"Program Management (2 years), Product Management (2 years), Quality Assurance (10+ years), Business intelligence, Devops \")"
   ]
  },
  {
   "cell_type": "code",
   "execution_count": 106,
   "metadata": {},
   "outputs": [
    {
     "data": {
      "text/plain": [
       "<CosmosClient [https://synapselynk.documents.azure.com:443]>"
      ]
     },
     "execution_count": 106,
     "metadata": {},
     "output_type": "execute_result"
    }
   ],
   "source": [
    "from azure.cosmos import exceptions, CosmosClient, PartitionKey\n",
    "import family\n",
    "\n",
    "endpoint = \"https://synapselynk.documents.azure.com:443\"\n",
    "key = \"EOdozau4gWO1KCXaSWxffMEp25qh1ZUc53JNECyFB460ov2xe5WggWXmrBEX0u9TIksOa5qo2PO91bZ9STMjCg==\"\n",
    "\n",
    "# <create_cosmos_client>\n",
    "client = CosmosClient(endpoint, key)\n",
    "# </create_cosmos_client>\n",
    "client"
   ]
  },
  {
   "cell_type": "code",
   "execution_count": 128,
   "metadata": {},
   "outputs": [],
   "source": [
    "database_name = 'bds_database'\n",
    "database = client.create_database_if_not_exists(id=database_name)\n",
    "database = client.get_database_client(database_name)\n",
    "\n",
    "\n",
    "container_name = 'parse_data'\n",
    "container = database.get_container_client(container_name)\n",
    "\n",
    "query = \"SELECT * FROM c\"\n",
    "items = list(container.query_items(\n",
    "    query=query,\n",
    "    enable_cross_partition_query=True\n",
    "))\n",
    "\n",
    "for i in items:\n",
    "    print(i)\n",
    "    "
   ]
  },
  {
   "cell_type": "code",
   "execution_count": 123,
   "metadata": {},
   "outputs": [
    {
     "data": {
      "text/plain": [
       "'parse_data'"
      ]
     },
     "execution_count": 123,
     "metadata": {},
     "output_type": "execute_result"
    }
   ],
   "source": [
    "from pprint import pprint\n",
    "import json\n",
    "result = database.list_containers()\n",
    "container_id = \"\"\n",
    "for i in result:\n",
    "    container_id = i[\"id\"]\n",
    "    break\n",
    "container_id"
   ]
  },
  {
   "cell_type": "code",
   "execution_count": 125,
   "metadata": {},
   "outputs": [],
   "source": [
    "container = database.get_container_client(container_id)\n",
    "\n",
    "list_data = container.query_items(\n",
    "                query='SELECT * FROM parse_data',\n",
    "                enable_cross_partition_query=True)\n",
    "for item in list_data:\n",
    "    print(json.dumps(item, indent=True))\n"
   ]
  },
  {
   "cell_type": "code",
   "execution_count": 5,
   "metadata": {},
   "outputs": [],
   "source": [
    "from azure.cosmos import exceptions, CosmosClient, PartitionKey\n",
    "class AzureCosmos:\n",
    "\n",
    "    def __init__(self):\n",
    "        endpoint = \"https://synapsel1nk.documents.azure.com:443/\"\n",
    "        key = \"r0EEApAfBwKARscLmgjPzdAYVVxFbLy5pOf2AU0yLL6FrcHFjySI3NYnb5zpHSvVPFkvRKI4yUTTRIZTmt4mCg==\"\n",
    "        \n",
    "        # create_cosmos_client\n",
    "        client = CosmosClient(endpoint, key)\n",
    "\n",
    "        database_name = 'data'\n",
    "        client.create_database_if_not_exists(database_name)\n",
    "        database = client.get_database_client(database_name)\n",
    "        container_name = 'parser_data'\n",
    "        self.container = database.get_container_client(container_name)\n",
    "\n",
    "    def insert(self, row_json):\n",
    "        self.container.upsert_item(row_json)\n",
    "\n",
    "    def getAll(self):\n",
    "        return self.container.query_items(\n",
    "            query='SELECT * FROM c',\n",
    "            enable_cross_partition_query=True)\n",
    "    \n",
    "    def delItem(self, item):\n",
    "        return self.container.delete_item(item,\"url_hash\")\n",
    "\n",
    "\n",
    "myclient = AzureCosmos()\n",
    "\n"
   ]
  },
  {
   "cell_type": "code",
   "execution_count": 6,
   "metadata": {},
   "outputs": [],
   "source": [
    "# row = {\"minh\":\"trying upload\", \"url_hash\":\"abc\"}\n",
    "# myclient.insert(row)"
   ]
  },
  {
   "cell_type": "code",
   "execution_count": 7,
   "metadata": {},
   "outputs": [
    {
     "ename": "CosmosResourceNotFoundError",
     "evalue": "(NotFound) Message: {\"Errors\":[\"Resource Not Found. Learn more: https:\\/\\/aka.ms\\/cosmosdb-tsg-not-found\"]}\r\nActivityId: 388618d3-c97b-4d40-9148-f6f67f286ad7, Request URI: /apps/333bb622-85f3-4eee-985e-02c5c8fba767/services/2672b9d1-47b7-4042-addc-127c8e19836c/partitions/c38d20d3-6f4e-4228-9648-435501a62c24/replicas/132646592385133951s, RequestStats: \r\nRequestStartTime: 2021-05-14T09:03:40.1653791Z, RequestEndTime: 2021-05-14T09:03:40.1653791Z,  Number of regions attempted:1\r\nResponseTime: 2021-05-14T09:03:40.1653791Z, StoreResult: StorePhysicalAddress: rntbd://10.0.0.21:11300/apps/333bb622-85f3-4eee-985e-02c5c8fba767/services/2672b9d1-47b7-4042-addc-127c8e19836c/partitions/c38d20d3-6f4e-4228-9648-435501a62c24/replicas/132646592385133951s, LSN: 19, GlobalCommittedLsn: 19, PartitionKeyRangeId: , IsValid: True, StatusCode: 404, SubStatusCode: 0, RequestCharge: 1, ItemLSN: -1, SessionToken: -1#19, UsingLocalLSN: False, TransportException: null, ResourceType: Collection, OperationType: Read\r\nResponseTime: 2021-05-14T09:03:40.1653791Z, StoreResult: StorePhysicalAddress: rntbd://10.0.0.22:11000/apps/333bb622-85f3-4eee-985e-02c5c8fba767/services/2672b9d1-47b7-4042-addc-127c8e19836c/partitions/c38d20d3-6f4e-4228-9648-435501a62c24/replicas/132646592385133953s, LSN: 19, GlobalCommittedLsn: 19, PartitionKeyRangeId: , IsValid: True, StatusCode: 404, SubStatusCode: 0, RequestCharge: 1, ItemLSN: -1, SessionToken: -1#19, UsingLocalLSN: False, TransportException: null, ResourceType: Collection, OperationType: Read\r\n, SDK: Microsoft.Azure.Documents.Common/2.11.0",
     "output_type": "error",
     "traceback": [
      "\u001b[1;31m---------------------------------------------------------------------------\u001b[0m",
      "\u001b[1;31mCosmosResourceNotFoundError\u001b[0m               Traceback (most recent call last)",
      "\u001b[1;32m<ipython-input-7-d0e052db703c>\u001b[0m in \u001b[0;36m<module>\u001b[1;34m\u001b[0m\n\u001b[1;32m----> 1\u001b[1;33m \u001b[0mdata\u001b[0m \u001b[1;33m=\u001b[0m \u001b[0mlist\u001b[0m\u001b[1;33m(\u001b[0m\u001b[0mmyclient\u001b[0m\u001b[1;33m.\u001b[0m\u001b[0mgetAll\u001b[0m\u001b[1;33m(\u001b[0m\u001b[1;33m)\u001b[0m\u001b[1;33m)\u001b[0m\u001b[1;33m\u001b[0m\u001b[1;33m\u001b[0m\u001b[0m\n\u001b[0m\u001b[0;32m      2\u001b[0m \u001b[0ml\u001b[0m \u001b[1;33m=\u001b[0m \u001b[0mlen\u001b[0m\u001b[1;33m(\u001b[0m\u001b[0mdata\u001b[0m\u001b[1;33m)\u001b[0m\u001b[1;33m\u001b[0m\u001b[1;33m\u001b[0m\u001b[0m\n\u001b[0;32m      3\u001b[0m \u001b[0mprint\u001b[0m\u001b[1;33m(\u001b[0m\u001b[0ml\u001b[0m\u001b[1;33m)\u001b[0m\u001b[1;33m\u001b[0m\u001b[1;33m\u001b[0m\u001b[0m\n\u001b[0;32m      4\u001b[0m \u001b[0mprint\u001b[0m\u001b[1;33m(\u001b[0m\u001b[0mdata\u001b[0m\u001b[1;33m[\u001b[0m\u001b[0ml\u001b[0m\u001b[1;33m-\u001b[0m\u001b[1;36m1\u001b[0m\u001b[1;33m]\u001b[0m\u001b[1;33m)\u001b[0m\u001b[1;33m\u001b[0m\u001b[1;33m\u001b[0m\u001b[0m\n\u001b[0;32m      5\u001b[0m \u001b[1;31m# for i in data\u001b[0m\u001b[1;33m\u001b[0m\u001b[1;33m\u001b[0m\u001b[1;33m\u001b[0m\u001b[0m\n",
      "\u001b[1;32mC:\\ProgramData\\Anaconda3\\lib\\site-packages\\azure\\core\\paging.py\u001b[0m in \u001b[0;36m__next__\u001b[1;34m(self)\u001b[0m\n\u001b[0;32m    127\u001b[0m         \u001b[1;32mif\u001b[0m \u001b[0mself\u001b[0m\u001b[1;33m.\u001b[0m\u001b[0m_page_iterator\u001b[0m \u001b[1;32mis\u001b[0m \u001b[1;32mNone\u001b[0m\u001b[1;33m:\u001b[0m\u001b[1;33m\u001b[0m\u001b[1;33m\u001b[0m\u001b[0m\n\u001b[0;32m    128\u001b[0m             \u001b[0mself\u001b[0m\u001b[1;33m.\u001b[0m\u001b[0m_page_iterator\u001b[0m \u001b[1;33m=\u001b[0m \u001b[0mitertools\u001b[0m\u001b[1;33m.\u001b[0m\u001b[0mchain\u001b[0m\u001b[1;33m.\u001b[0m\u001b[0mfrom_iterable\u001b[0m\u001b[1;33m(\u001b[0m\u001b[0mself\u001b[0m\u001b[1;33m.\u001b[0m\u001b[0mby_page\u001b[0m\u001b[1;33m(\u001b[0m\u001b[1;33m)\u001b[0m\u001b[1;33m)\u001b[0m\u001b[1;33m\u001b[0m\u001b[1;33m\u001b[0m\u001b[0m\n\u001b[1;32m--> 129\u001b[1;33m         \u001b[1;32mreturn\u001b[0m \u001b[0mnext\u001b[0m\u001b[1;33m(\u001b[0m\u001b[0mself\u001b[0m\u001b[1;33m.\u001b[0m\u001b[0m_page_iterator\u001b[0m\u001b[1;33m)\u001b[0m\u001b[1;33m\u001b[0m\u001b[1;33m\u001b[0m\u001b[0m\n\u001b[0m\u001b[0;32m    130\u001b[0m \u001b[1;33m\u001b[0m\u001b[0m\n\u001b[0;32m    131\u001b[0m     \u001b[0mnext\u001b[0m \u001b[1;33m=\u001b[0m \u001b[0m__next__\u001b[0m  \u001b[1;31m# Python 2 compatibility.\u001b[0m\u001b[1;33m\u001b[0m\u001b[1;33m\u001b[0m\u001b[0m\n",
      "\u001b[1;32mC:\\ProgramData\\Anaconda3\\lib\\site-packages\\azure\\core\\paging.py\u001b[0m in \u001b[0;36m__next__\u001b[1;34m(self)\u001b[0m\n\u001b[0;32m     74\u001b[0m             \u001b[1;32mraise\u001b[0m \u001b[0mStopIteration\u001b[0m\u001b[1;33m(\u001b[0m\u001b[1;34m\"End of paging\"\u001b[0m\u001b[1;33m)\u001b[0m\u001b[1;33m\u001b[0m\u001b[1;33m\u001b[0m\u001b[0m\n\u001b[0;32m     75\u001b[0m         \u001b[1;32mtry\u001b[0m\u001b[1;33m:\u001b[0m\u001b[1;33m\u001b[0m\u001b[1;33m\u001b[0m\u001b[0m\n\u001b[1;32m---> 76\u001b[1;33m             \u001b[0mself\u001b[0m\u001b[1;33m.\u001b[0m\u001b[0m_response\u001b[0m \u001b[1;33m=\u001b[0m \u001b[0mself\u001b[0m\u001b[1;33m.\u001b[0m\u001b[0m_get_next\u001b[0m\u001b[1;33m(\u001b[0m\u001b[0mself\u001b[0m\u001b[1;33m.\u001b[0m\u001b[0mcontinuation_token\u001b[0m\u001b[1;33m)\u001b[0m\u001b[1;33m\u001b[0m\u001b[1;33m\u001b[0m\u001b[0m\n\u001b[0m\u001b[0;32m     77\u001b[0m         \u001b[1;32mexcept\u001b[0m \u001b[0mAzureError\u001b[0m \u001b[1;32mas\u001b[0m \u001b[0merror\u001b[0m\u001b[1;33m:\u001b[0m\u001b[1;33m\u001b[0m\u001b[1;33m\u001b[0m\u001b[0m\n\u001b[0;32m     78\u001b[0m             \u001b[1;32mif\u001b[0m \u001b[1;32mnot\u001b[0m \u001b[0merror\u001b[0m\u001b[1;33m.\u001b[0m\u001b[0mcontinuation_token\u001b[0m\u001b[1;33m:\u001b[0m\u001b[1;33m\u001b[0m\u001b[1;33m\u001b[0m\u001b[0m\n",
      "\u001b[1;32mC:\\ProgramData\\Anaconda3\\lib\\site-packages\\azure\\cosmos\\_query_iterable.py\u001b[0m in \u001b[0;36m_fetch_next\u001b[1;34m(self, *args)\u001b[0m\n\u001b[0;32m     96\u001b[0m         \u001b[1;33m:\u001b[0m\u001b[0mrtype\u001b[0m\u001b[1;33m:\u001b[0m \u001b[0mlist\u001b[0m\u001b[1;33m\u001b[0m\u001b[1;33m\u001b[0m\u001b[0m\n\u001b[0;32m     97\u001b[0m         \"\"\"\n\u001b[1;32m---> 98\u001b[1;33m         \u001b[0mblock\u001b[0m \u001b[1;33m=\u001b[0m \u001b[0mself\u001b[0m\u001b[1;33m.\u001b[0m\u001b[0m_ex_context\u001b[0m\u001b[1;33m.\u001b[0m\u001b[0mfetch_next_block\u001b[0m\u001b[1;33m(\u001b[0m\u001b[1;33m)\u001b[0m\u001b[1;33m\u001b[0m\u001b[1;33m\u001b[0m\u001b[0m\n\u001b[0m\u001b[0;32m     99\u001b[0m         \u001b[1;32mif\u001b[0m \u001b[1;32mnot\u001b[0m \u001b[0mblock\u001b[0m\u001b[1;33m:\u001b[0m\u001b[1;33m\u001b[0m\u001b[1;33m\u001b[0m\u001b[0m\n\u001b[0;32m    100\u001b[0m             \u001b[1;32mraise\u001b[0m \u001b[0mStopIteration\u001b[0m\u001b[1;33m\u001b[0m\u001b[1;33m\u001b[0m\u001b[0m\n",
      "\u001b[1;32mC:\\ProgramData\\Anaconda3\\lib\\site-packages\\azure\\cosmos\\_execution_context\\execution_dispatcher.py\u001b[0m in \u001b[0;36mfetch_next_block\u001b[1;34m(self)\u001b[0m\n\u001b[0;32m    108\u001b[0m                 \u001b[0mself\u001b[0m\u001b[1;33m.\u001b[0m\u001b[0m_execution_context\u001b[0m \u001b[1;33m=\u001b[0m \u001b[0mself\u001b[0m\u001b[1;33m.\u001b[0m\u001b[0m_create_pipelined_execution_context\u001b[0m\u001b[1;33m(\u001b[0m\u001b[0mquery_execution_info\u001b[0m\u001b[1;33m)\u001b[0m\u001b[1;33m\u001b[0m\u001b[1;33m\u001b[0m\u001b[0m\n\u001b[0;32m    109\u001b[0m             \u001b[1;32melse\u001b[0m\u001b[1;33m:\u001b[0m\u001b[1;33m\u001b[0m\u001b[1;33m\u001b[0m\u001b[0m\n\u001b[1;32m--> 110\u001b[1;33m                 \u001b[1;32mraise\u001b[0m \u001b[0me\u001b[0m\u001b[1;33m\u001b[0m\u001b[1;33m\u001b[0m\u001b[0m\n\u001b[0m\u001b[0;32m    111\u001b[0m \u001b[1;33m\u001b[0m\u001b[0m\n\u001b[0;32m    112\u001b[0m         \u001b[1;32mreturn\u001b[0m \u001b[0mself\u001b[0m\u001b[1;33m.\u001b[0m\u001b[0m_execution_context\u001b[0m\u001b[1;33m.\u001b[0m\u001b[0mfetch_next_block\u001b[0m\u001b[1;33m(\u001b[0m\u001b[1;33m)\u001b[0m\u001b[1;33m\u001b[0m\u001b[1;33m\u001b[0m\u001b[0m\n",
      "\u001b[1;32mC:\\ProgramData\\Anaconda3\\lib\\site-packages\\azure\\cosmos\\_execution_context\\execution_dispatcher.py\u001b[0m in \u001b[0;36mfetch_next_block\u001b[1;34m(self)\u001b[0m\n\u001b[0;32m    100\u001b[0m         \"\"\"\n\u001b[0;32m    101\u001b[0m         \u001b[1;32mtry\u001b[0m\u001b[1;33m:\u001b[0m\u001b[1;33m\u001b[0m\u001b[1;33m\u001b[0m\u001b[0m\n\u001b[1;32m--> 102\u001b[1;33m             \u001b[1;32mreturn\u001b[0m \u001b[0mself\u001b[0m\u001b[1;33m.\u001b[0m\u001b[0m_execution_context\u001b[0m\u001b[1;33m.\u001b[0m\u001b[0mfetch_next_block\u001b[0m\u001b[1;33m(\u001b[0m\u001b[1;33m)\u001b[0m\u001b[1;33m\u001b[0m\u001b[1;33m\u001b[0m\u001b[0m\n\u001b[0m\u001b[0;32m    103\u001b[0m         \u001b[1;32mexcept\u001b[0m \u001b[0mCosmosHttpResponseError\u001b[0m \u001b[1;32mas\u001b[0m \u001b[0me\u001b[0m\u001b[1;33m:\u001b[0m\u001b[1;33m\u001b[0m\u001b[1;33m\u001b[0m\u001b[0m\n\u001b[0;32m    104\u001b[0m             \u001b[1;32mif\u001b[0m \u001b[0m_is_partitioned_execution_info\u001b[0m\u001b[1;33m(\u001b[0m\u001b[0me\u001b[0m\u001b[1;33m)\u001b[0m\u001b[1;33m:\u001b[0m\u001b[1;33m\u001b[0m\u001b[1;33m\u001b[0m\u001b[0m\n",
      "\u001b[1;32mC:\\ProgramData\\Anaconda3\\lib\\site-packages\\azure\\cosmos\\_execution_context\\base_execution_context.py\u001b[0m in \u001b[0;36mfetch_next_block\u001b[1;34m(self)\u001b[0m\n\u001b[0;32m     79\u001b[0m \u001b[1;33m\u001b[0m\u001b[0m\n\u001b[0;32m     80\u001b[0m         \u001b[1;31m# fetches the next block\u001b[0m\u001b[1;33m\u001b[0m\u001b[1;33m\u001b[0m\u001b[1;33m\u001b[0m\u001b[0m\n\u001b[1;32m---> 81\u001b[1;33m         \u001b[1;32mreturn\u001b[0m \u001b[0mself\u001b[0m\u001b[1;33m.\u001b[0m\u001b[0m_fetch_next_block\u001b[0m\u001b[1;33m(\u001b[0m\u001b[1;33m)\u001b[0m\u001b[1;33m\u001b[0m\u001b[1;33m\u001b[0m\u001b[0m\n\u001b[0m\u001b[0;32m     82\u001b[0m \u001b[1;33m\u001b[0m\u001b[0m\n\u001b[0;32m     83\u001b[0m     \u001b[1;32mdef\u001b[0m \u001b[0m_fetch_next_block\u001b[0m\u001b[1;33m(\u001b[0m\u001b[0mself\u001b[0m\u001b[1;33m)\u001b[0m\u001b[1;33m:\u001b[0m\u001b[1;33m\u001b[0m\u001b[1;33m\u001b[0m\u001b[0m\n",
      "\u001b[1;32mC:\\ProgramData\\Anaconda3\\lib\\site-packages\\azure\\cosmos\\_execution_context\\base_execution_context.py\u001b[0m in \u001b[0;36m_fetch_next_block\u001b[1;34m(self)\u001b[0m\n\u001b[0;32m    168\u001b[0m     \u001b[1;32mdef\u001b[0m \u001b[0m_fetch_next_block\u001b[0m\u001b[1;33m(\u001b[0m\u001b[0mself\u001b[0m\u001b[1;33m)\u001b[0m\u001b[1;33m:\u001b[0m\u001b[1;33m\u001b[0m\u001b[1;33m\u001b[0m\u001b[0m\n\u001b[0;32m    169\u001b[0m         \u001b[1;32mwhile\u001b[0m \u001b[0msuper\u001b[0m\u001b[1;33m(\u001b[0m\u001b[0m_DefaultQueryExecutionContext\u001b[0m\u001b[1;33m,\u001b[0m \u001b[0mself\u001b[0m\u001b[1;33m)\u001b[0m\u001b[1;33m.\u001b[0m\u001b[0m_has_more_pages\u001b[0m\u001b[1;33m(\u001b[0m\u001b[1;33m)\u001b[0m \u001b[1;32mand\u001b[0m \u001b[1;32mnot\u001b[0m \u001b[0mself\u001b[0m\u001b[1;33m.\u001b[0m\u001b[0m_buffer\u001b[0m\u001b[1;33m:\u001b[0m\u001b[1;33m\u001b[0m\u001b[1;33m\u001b[0m\u001b[0m\n\u001b[1;32m--> 170\u001b[1;33m             \u001b[1;32mreturn\u001b[0m \u001b[0mself\u001b[0m\u001b[1;33m.\u001b[0m\u001b[0m_fetch_items_helper_with_retries\u001b[0m\u001b[1;33m(\u001b[0m\u001b[0mself\u001b[0m\u001b[1;33m.\u001b[0m\u001b[0m_fetch_function\u001b[0m\u001b[1;33m)\u001b[0m\u001b[1;33m\u001b[0m\u001b[1;33m\u001b[0m\u001b[0m\n\u001b[0m",
      "\u001b[1;32mC:\\ProgramData\\Anaconda3\\lib\\site-packages\\azure\\cosmos\\_execution_context\\base_execution_context.py\u001b[0m in \u001b[0;36m_fetch_items_helper_with_retries\u001b[1;34m(self, fetch_function)\u001b[0m\n\u001b[0;32m    140\u001b[0m             \u001b[1;32mreturn\u001b[0m \u001b[0mself\u001b[0m\u001b[1;33m.\u001b[0m\u001b[0m_fetch_items_helper_no_retries\u001b[0m\u001b[1;33m(\u001b[0m\u001b[0mfetch_function\u001b[0m\u001b[1;33m)\u001b[0m\u001b[1;33m\u001b[0m\u001b[1;33m\u001b[0m\u001b[0m\n\u001b[0;32m    141\u001b[0m \u001b[1;33m\u001b[0m\u001b[0m\n\u001b[1;32m--> 142\u001b[1;33m         \u001b[1;32mreturn\u001b[0m \u001b[0m_retry_utility\u001b[0m\u001b[1;33m.\u001b[0m\u001b[0mExecute\u001b[0m\u001b[1;33m(\u001b[0m\u001b[0mself\u001b[0m\u001b[1;33m.\u001b[0m\u001b[0m_client\u001b[0m\u001b[1;33m,\u001b[0m \u001b[0mself\u001b[0m\u001b[1;33m.\u001b[0m\u001b[0m_client\u001b[0m\u001b[1;33m.\u001b[0m\u001b[0m_global_endpoint_manager\u001b[0m\u001b[1;33m,\u001b[0m \u001b[0mcallback\u001b[0m\u001b[1;33m)\u001b[0m\u001b[1;33m\u001b[0m\u001b[1;33m\u001b[0m\u001b[0m\n\u001b[0m\u001b[0;32m    143\u001b[0m \u001b[1;33m\u001b[0m\u001b[0m\n\u001b[0;32m    144\u001b[0m     \u001b[0mnext\u001b[0m \u001b[1;33m=\u001b[0m \u001b[0m__next__\u001b[0m  \u001b[1;31m# Python 2 compatibility.\u001b[0m\u001b[1;33m\u001b[0m\u001b[1;33m\u001b[0m\u001b[0m\n",
      "\u001b[1;32mC:\\ProgramData\\Anaconda3\\lib\\site-packages\\azure\\cosmos\\_retry_utility.py\u001b[0m in \u001b[0;36mExecute\u001b[1;34m(client, global_endpoint_manager, function, *args, **kwargs)\u001b[0m\n\u001b[0;32m     73\u001b[0m                 \u001b[0mresult\u001b[0m \u001b[1;33m=\u001b[0m \u001b[0mExecuteFunction\u001b[0m\u001b[1;33m(\u001b[0m\u001b[0mfunction\u001b[0m\u001b[1;33m,\u001b[0m \u001b[0mglobal_endpoint_manager\u001b[0m\u001b[1;33m,\u001b[0m \u001b[1;33m*\u001b[0m\u001b[0margs\u001b[0m\u001b[1;33m,\u001b[0m \u001b[1;33m**\u001b[0m\u001b[0mkwargs\u001b[0m\u001b[1;33m)\u001b[0m\u001b[1;33m\u001b[0m\u001b[1;33m\u001b[0m\u001b[0m\n\u001b[0;32m     74\u001b[0m             \u001b[1;32melse\u001b[0m\u001b[1;33m:\u001b[0m\u001b[1;33m\u001b[0m\u001b[1;33m\u001b[0m\u001b[0m\n\u001b[1;32m---> 75\u001b[1;33m                 \u001b[0mresult\u001b[0m \u001b[1;33m=\u001b[0m \u001b[0mExecuteFunction\u001b[0m\u001b[1;33m(\u001b[0m\u001b[0mfunction\u001b[0m\u001b[1;33m,\u001b[0m \u001b[1;33m*\u001b[0m\u001b[0margs\u001b[0m\u001b[1;33m,\u001b[0m \u001b[1;33m**\u001b[0m\u001b[0mkwargs\u001b[0m\u001b[1;33m)\u001b[0m\u001b[1;33m\u001b[0m\u001b[1;33m\u001b[0m\u001b[0m\n\u001b[0m\u001b[0;32m     76\u001b[0m             \u001b[1;32mif\u001b[0m \u001b[1;32mnot\u001b[0m \u001b[0mclient\u001b[0m\u001b[1;33m.\u001b[0m\u001b[0mlast_response_headers\u001b[0m\u001b[1;33m:\u001b[0m\u001b[1;33m\u001b[0m\u001b[1;33m\u001b[0m\u001b[0m\n\u001b[0;32m     77\u001b[0m                 \u001b[0mclient\u001b[0m\u001b[1;33m.\u001b[0m\u001b[0mlast_response_headers\u001b[0m \u001b[1;33m=\u001b[0m \u001b[1;33m{\u001b[0m\u001b[1;33m}\u001b[0m\u001b[1;33m\u001b[0m\u001b[1;33m\u001b[0m\u001b[0m\n",
      "\u001b[1;32mC:\\ProgramData\\Anaconda3\\lib\\site-packages\\azure\\cosmos\\_retry_utility.py\u001b[0m in \u001b[0;36mExecuteFunction\u001b[1;34m(function, *args, **kwargs)\u001b[0m\n\u001b[0;32m    128\u001b[0m     \"\"\"Stub method so that it can be used for mocking purposes as well.\n\u001b[0;32m    129\u001b[0m     \"\"\"\n\u001b[1;32m--> 130\u001b[1;33m     \u001b[1;32mreturn\u001b[0m \u001b[0mfunction\u001b[0m\u001b[1;33m(\u001b[0m\u001b[1;33m*\u001b[0m\u001b[0margs\u001b[0m\u001b[1;33m,\u001b[0m \u001b[1;33m**\u001b[0m\u001b[0mkwargs\u001b[0m\u001b[1;33m)\u001b[0m\u001b[1;33m\u001b[0m\u001b[1;33m\u001b[0m\u001b[0m\n\u001b[0m\u001b[0;32m    131\u001b[0m \u001b[1;33m\u001b[0m\u001b[0m\n\u001b[0;32m    132\u001b[0m \u001b[1;33m\u001b[0m\u001b[0m\n",
      "\u001b[1;32mC:\\ProgramData\\Anaconda3\\lib\\site-packages\\azure\\cosmos\\_execution_context\\base_execution_context.py\u001b[0m in \u001b[0;36mcallback\u001b[1;34m()\u001b[0m\n\u001b[0;32m    138\u001b[0m     \u001b[1;32mdef\u001b[0m \u001b[0m_fetch_items_helper_with_retries\u001b[0m\u001b[1;33m(\u001b[0m\u001b[0mself\u001b[0m\u001b[1;33m,\u001b[0m \u001b[0mfetch_function\u001b[0m\u001b[1;33m)\u001b[0m\u001b[1;33m:\u001b[0m\u001b[1;33m\u001b[0m\u001b[1;33m\u001b[0m\u001b[0m\n\u001b[0;32m    139\u001b[0m         \u001b[1;32mdef\u001b[0m \u001b[0mcallback\u001b[0m\u001b[1;33m(\u001b[0m\u001b[1;33m)\u001b[0m\u001b[1;33m:\u001b[0m\u001b[1;33m\u001b[0m\u001b[1;33m\u001b[0m\u001b[0m\n\u001b[1;32m--> 140\u001b[1;33m             \u001b[1;32mreturn\u001b[0m \u001b[0mself\u001b[0m\u001b[1;33m.\u001b[0m\u001b[0m_fetch_items_helper_no_retries\u001b[0m\u001b[1;33m(\u001b[0m\u001b[0mfetch_function\u001b[0m\u001b[1;33m)\u001b[0m\u001b[1;33m\u001b[0m\u001b[1;33m\u001b[0m\u001b[0m\n\u001b[0m\u001b[0;32m    141\u001b[0m \u001b[1;33m\u001b[0m\u001b[0m\n\u001b[0;32m    142\u001b[0m         \u001b[1;32mreturn\u001b[0m \u001b[0m_retry_utility\u001b[0m\u001b[1;33m.\u001b[0m\u001b[0mExecute\u001b[0m\u001b[1;33m(\u001b[0m\u001b[0mself\u001b[0m\u001b[1;33m.\u001b[0m\u001b[0m_client\u001b[0m\u001b[1;33m,\u001b[0m \u001b[0mself\u001b[0m\u001b[1;33m.\u001b[0m\u001b[0m_client\u001b[0m\u001b[1;33m.\u001b[0m\u001b[0m_global_endpoint_manager\u001b[0m\u001b[1;33m,\u001b[0m \u001b[0mcallback\u001b[0m\u001b[1;33m)\u001b[0m\u001b[1;33m\u001b[0m\u001b[1;33m\u001b[0m\u001b[0m\n",
      "\u001b[1;32mC:\\ProgramData\\Anaconda3\\lib\\site-packages\\azure\\cosmos\\_execution_context\\base_execution_context.py\u001b[0m in \u001b[0;36m_fetch_items_helper_no_retries\u001b[1;34m(self, fetch_function)\u001b[0m\n\u001b[0;32m    121\u001b[0m             \u001b[0mnew_options\u001b[0m \u001b[1;33m=\u001b[0m \u001b[0mcopy\u001b[0m\u001b[1;33m.\u001b[0m\u001b[0mdeepcopy\u001b[0m\u001b[1;33m(\u001b[0m\u001b[0mself\u001b[0m\u001b[1;33m.\u001b[0m\u001b[0m_options\u001b[0m\u001b[1;33m)\u001b[0m\u001b[1;33m\u001b[0m\u001b[1;33m\u001b[0m\u001b[0m\n\u001b[0;32m    122\u001b[0m             \u001b[0mnew_options\u001b[0m\u001b[1;33m[\u001b[0m\u001b[1;34m\"continuation\"\u001b[0m\u001b[1;33m]\u001b[0m \u001b[1;33m=\u001b[0m \u001b[0mself\u001b[0m\u001b[1;33m.\u001b[0m\u001b[0m_continuation\u001b[0m\u001b[1;33m\u001b[0m\u001b[1;33m\u001b[0m\u001b[0m\n\u001b[1;32m--> 123\u001b[1;33m             \u001b[1;33m(\u001b[0m\u001b[0mfetched_items\u001b[0m\u001b[1;33m,\u001b[0m \u001b[0mresponse_headers\u001b[0m\u001b[1;33m)\u001b[0m \u001b[1;33m=\u001b[0m \u001b[0mfetch_function\u001b[0m\u001b[1;33m(\u001b[0m\u001b[0mnew_options\u001b[0m\u001b[1;33m)\u001b[0m\u001b[1;33m\u001b[0m\u001b[1;33m\u001b[0m\u001b[0m\n\u001b[0m\u001b[0;32m    124\u001b[0m             \u001b[0mcontinuation_key\u001b[0m \u001b[1;33m=\u001b[0m \u001b[0mhttp_constants\u001b[0m\u001b[1;33m.\u001b[0m\u001b[0mHttpHeaders\u001b[0m\u001b[1;33m.\u001b[0m\u001b[0mContinuation\u001b[0m\u001b[1;33m\u001b[0m\u001b[1;33m\u001b[0m\u001b[0m\n\u001b[0;32m    125\u001b[0m             \u001b[1;31m# Use Etag as continuation token for change feed queries.\u001b[0m\u001b[1;33m\u001b[0m\u001b[1;33m\u001b[0m\u001b[1;33m\u001b[0m\u001b[0m\n",
      "\u001b[1;32mC:\\ProgramData\\Anaconda3\\lib\\site-packages\\azure\\cosmos\\_cosmos_client_connection.py\u001b[0m in \u001b[0;36mfetch_fn\u001b[1;34m(options)\u001b[0m\n\u001b[0;32m    887\u001b[0m         \u001b[1;32mdef\u001b[0m \u001b[0mfetch_fn\u001b[0m\u001b[1;33m(\u001b[0m\u001b[0moptions\u001b[0m\u001b[1;33m)\u001b[0m\u001b[1;33m:\u001b[0m\u001b[1;33m\u001b[0m\u001b[1;33m\u001b[0m\u001b[0m\n\u001b[0;32m    888\u001b[0m             return (\n\u001b[1;32m--> 889\u001b[1;33m                 self.__QueryFeed(\n\u001b[0m\u001b[0;32m    890\u001b[0m                     \u001b[0mpath\u001b[0m\u001b[1;33m,\u001b[0m\u001b[1;33m\u001b[0m\u001b[1;33m\u001b[0m\u001b[0m\n\u001b[0;32m    891\u001b[0m                     \u001b[1;34m\"docs\"\u001b[0m\u001b[1;33m,\u001b[0m\u001b[1;33m\u001b[0m\u001b[1;33m\u001b[0m\u001b[0m\n",
      "\u001b[1;32mC:\\ProgramData\\Anaconda3\\lib\\site-packages\\azure\\cosmos\\_cosmos_client_connection.py\u001b[0m in \u001b[0;36m__QueryFeed\u001b[1;34m(self, path, typ, id_, result_fn, create_fn, query, options, partition_key_range_id, response_hook, is_query_plan, **kwargs)\u001b[0m\n\u001b[0;32m   2407\u001b[0m         \u001b[0mrequest_params\u001b[0m \u001b[1;33m=\u001b[0m \u001b[0m_request_object\u001b[0m\u001b[1;33m.\u001b[0m\u001b[0mRequestObject\u001b[0m\u001b[1;33m(\u001b[0m\u001b[0mtyp\u001b[0m\u001b[1;33m,\u001b[0m \u001b[0mdocuments\u001b[0m\u001b[1;33m.\u001b[0m\u001b[0m_OperationType\u001b[0m\u001b[1;33m.\u001b[0m\u001b[0mSqlQuery\u001b[0m\u001b[1;33m)\u001b[0m\u001b[1;33m\u001b[0m\u001b[1;33m\u001b[0m\u001b[0m\n\u001b[0;32m   2408\u001b[0m         \u001b[0mreq_headers\u001b[0m \u001b[1;33m=\u001b[0m \u001b[0mbase\u001b[0m\u001b[1;33m.\u001b[0m\u001b[0mGetHeaders\u001b[0m\u001b[1;33m(\u001b[0m\u001b[0mself\u001b[0m\u001b[1;33m,\u001b[0m \u001b[0minitial_headers\u001b[0m\u001b[1;33m,\u001b[0m \u001b[1;34m\"post\"\u001b[0m\u001b[1;33m,\u001b[0m \u001b[0mpath\u001b[0m\u001b[1;33m,\u001b[0m \u001b[0mid_\u001b[0m\u001b[1;33m,\u001b[0m \u001b[0mtyp\u001b[0m\u001b[1;33m,\u001b[0m \u001b[0moptions\u001b[0m\u001b[1;33m,\u001b[0m \u001b[0mpartition_key_range_id\u001b[0m\u001b[1;33m)\u001b[0m\u001b[1;33m\u001b[0m\u001b[1;33m\u001b[0m\u001b[0m\n\u001b[1;32m-> 2409\u001b[1;33m         \u001b[0mresult\u001b[0m\u001b[1;33m,\u001b[0m \u001b[0mself\u001b[0m\u001b[1;33m.\u001b[0m\u001b[0mlast_response_headers\u001b[0m \u001b[1;33m=\u001b[0m \u001b[0mself\u001b[0m\u001b[1;33m.\u001b[0m\u001b[0m__Post\u001b[0m\u001b[1;33m(\u001b[0m\u001b[0mpath\u001b[0m\u001b[1;33m,\u001b[0m \u001b[0mrequest_params\u001b[0m\u001b[1;33m,\u001b[0m \u001b[0mquery\u001b[0m\u001b[1;33m,\u001b[0m \u001b[0mreq_headers\u001b[0m\u001b[1;33m,\u001b[0m \u001b[1;33m**\u001b[0m\u001b[0mkwargs\u001b[0m\u001b[1;33m)\u001b[0m\u001b[1;33m\u001b[0m\u001b[1;33m\u001b[0m\u001b[0m\n\u001b[0m\u001b[0;32m   2410\u001b[0m \u001b[1;33m\u001b[0m\u001b[0m\n\u001b[0;32m   2411\u001b[0m         \u001b[1;32mif\u001b[0m \u001b[0mresponse_hook\u001b[0m\u001b[1;33m:\u001b[0m\u001b[1;33m\u001b[0m\u001b[1;33m\u001b[0m\u001b[0m\n",
      "\u001b[1;32mC:\\ProgramData\\Anaconda3\\lib\\site-packages\\azure\\cosmos\\_cosmos_client_connection.py\u001b[0m in \u001b[0;36m__Post\u001b[1;34m(self, path, request_params, body, req_headers, **kwargs)\u001b[0m\n\u001b[0;32m   2233\u001b[0m         \"\"\"\n\u001b[0;32m   2234\u001b[0m         \u001b[0mrequest\u001b[0m \u001b[1;33m=\u001b[0m \u001b[0mself\u001b[0m\u001b[1;33m.\u001b[0m\u001b[0mpipeline_client\u001b[0m\u001b[1;33m.\u001b[0m\u001b[0mpost\u001b[0m\u001b[1;33m(\u001b[0m\u001b[0murl\u001b[0m\u001b[1;33m=\u001b[0m\u001b[0mpath\u001b[0m\u001b[1;33m,\u001b[0m \u001b[0mheaders\u001b[0m\u001b[1;33m=\u001b[0m\u001b[0mreq_headers\u001b[0m\u001b[1;33m)\u001b[0m\u001b[1;33m\u001b[0m\u001b[1;33m\u001b[0m\u001b[0m\n\u001b[1;32m-> 2235\u001b[1;33m         return synchronized_request.SynchronizedRequest(\n\u001b[0m\u001b[0;32m   2236\u001b[0m             \u001b[0mclient\u001b[0m\u001b[1;33m=\u001b[0m\u001b[0mself\u001b[0m\u001b[1;33m,\u001b[0m\u001b[1;33m\u001b[0m\u001b[1;33m\u001b[0m\u001b[0m\n\u001b[0;32m   2237\u001b[0m             \u001b[0mrequest_params\u001b[0m\u001b[1;33m=\u001b[0m\u001b[0mrequest_params\u001b[0m\u001b[1;33m,\u001b[0m\u001b[1;33m\u001b[0m\u001b[1;33m\u001b[0m\u001b[0m\n",
      "\u001b[1;32mC:\\ProgramData\\Anaconda3\\lib\\site-packages\\azure\\cosmos\\_synchronized_request.py\u001b[0m in \u001b[0;36mSynchronizedRequest\u001b[1;34m(client, request_params, global_endpoint_manager, connection_policy, pipeline_client, request, request_data, **kwargs)\u001b[0m\n\u001b[0;32m    208\u001b[0m \u001b[1;33m\u001b[0m\u001b[0m\n\u001b[0;32m    209\u001b[0m     \u001b[1;31m# Pass _Request function with it's parameters to retry_utility's Execute method that wraps the call with retries\u001b[0m\u001b[1;33m\u001b[0m\u001b[1;33m\u001b[0m\u001b[1;33m\u001b[0m\u001b[0m\n\u001b[1;32m--> 210\u001b[1;33m     return _retry_utility.Execute(\n\u001b[0m\u001b[0;32m    211\u001b[0m         \u001b[0mclient\u001b[0m\u001b[1;33m,\u001b[0m\u001b[1;33m\u001b[0m\u001b[1;33m\u001b[0m\u001b[0m\n\u001b[0;32m    212\u001b[0m         \u001b[0mglobal_endpoint_manager\u001b[0m\u001b[1;33m,\u001b[0m\u001b[1;33m\u001b[0m\u001b[1;33m\u001b[0m\u001b[0m\n",
      "\u001b[1;32mC:\\ProgramData\\Anaconda3\\lib\\site-packages\\azure\\cosmos\\_retry_utility.py\u001b[0m in \u001b[0;36mExecute\u001b[1;34m(client, global_endpoint_manager, function, *args, **kwargs)\u001b[0m\n\u001b[0;32m     71\u001b[0m             \u001b[0mstart_time\u001b[0m \u001b[1;33m=\u001b[0m \u001b[0mtime\u001b[0m\u001b[1;33m.\u001b[0m\u001b[0mtime\u001b[0m\u001b[1;33m(\u001b[0m\u001b[1;33m)\u001b[0m\u001b[1;33m\u001b[0m\u001b[1;33m\u001b[0m\u001b[0m\n\u001b[0;32m     72\u001b[0m             \u001b[1;32mif\u001b[0m \u001b[0margs\u001b[0m\u001b[1;33m:\u001b[0m\u001b[1;33m\u001b[0m\u001b[1;33m\u001b[0m\u001b[0m\n\u001b[1;32m---> 73\u001b[1;33m                 \u001b[0mresult\u001b[0m \u001b[1;33m=\u001b[0m \u001b[0mExecuteFunction\u001b[0m\u001b[1;33m(\u001b[0m\u001b[0mfunction\u001b[0m\u001b[1;33m,\u001b[0m \u001b[0mglobal_endpoint_manager\u001b[0m\u001b[1;33m,\u001b[0m \u001b[1;33m*\u001b[0m\u001b[0margs\u001b[0m\u001b[1;33m,\u001b[0m \u001b[1;33m**\u001b[0m\u001b[0mkwargs\u001b[0m\u001b[1;33m)\u001b[0m\u001b[1;33m\u001b[0m\u001b[1;33m\u001b[0m\u001b[0m\n\u001b[0m\u001b[0;32m     74\u001b[0m             \u001b[1;32melse\u001b[0m\u001b[1;33m:\u001b[0m\u001b[1;33m\u001b[0m\u001b[1;33m\u001b[0m\u001b[0m\n\u001b[0;32m     75\u001b[0m                 \u001b[0mresult\u001b[0m \u001b[1;33m=\u001b[0m \u001b[0mExecuteFunction\u001b[0m\u001b[1;33m(\u001b[0m\u001b[0mfunction\u001b[0m\u001b[1;33m,\u001b[0m \u001b[1;33m*\u001b[0m\u001b[0margs\u001b[0m\u001b[1;33m,\u001b[0m \u001b[1;33m**\u001b[0m\u001b[0mkwargs\u001b[0m\u001b[1;33m)\u001b[0m\u001b[1;33m\u001b[0m\u001b[1;33m\u001b[0m\u001b[0m\n",
      "\u001b[1;32mC:\\ProgramData\\Anaconda3\\lib\\site-packages\\azure\\cosmos\\_retry_utility.py\u001b[0m in \u001b[0;36mExecuteFunction\u001b[1;34m(function, *args, **kwargs)\u001b[0m\n\u001b[0;32m    128\u001b[0m     \"\"\"Stub method so that it can be used for mocking purposes as well.\n\u001b[0;32m    129\u001b[0m     \"\"\"\n\u001b[1;32m--> 130\u001b[1;33m     \u001b[1;32mreturn\u001b[0m \u001b[0mfunction\u001b[0m\u001b[1;33m(\u001b[0m\u001b[1;33m*\u001b[0m\u001b[0margs\u001b[0m\u001b[1;33m,\u001b[0m \u001b[1;33m**\u001b[0m\u001b[0mkwargs\u001b[0m\u001b[1;33m)\u001b[0m\u001b[1;33m\u001b[0m\u001b[1;33m\u001b[0m\u001b[0m\n\u001b[0m\u001b[0;32m    131\u001b[0m \u001b[1;33m\u001b[0m\u001b[0m\n\u001b[0;32m    132\u001b[0m \u001b[1;33m\u001b[0m\u001b[0m\n",
      "\u001b[1;32mC:\\ProgramData\\Anaconda3\\lib\\site-packages\\azure\\cosmos\\_synchronized_request.py\u001b[0m in \u001b[0;36m_Request\u001b[1;34m(global_endpoint_manager, request_params, connection_policy, pipeline_client, request, **kwargs)\u001b[0m\n\u001b[0;32m    150\u001b[0m \u001b[1;33m\u001b[0m\u001b[0m\n\u001b[0;32m    151\u001b[0m     \u001b[1;32mif\u001b[0m \u001b[0mresponse\u001b[0m\u001b[1;33m.\u001b[0m\u001b[0mstatus_code\u001b[0m \u001b[1;33m==\u001b[0m \u001b[1;36m404\u001b[0m\u001b[1;33m:\u001b[0m\u001b[1;33m\u001b[0m\u001b[1;33m\u001b[0m\u001b[0m\n\u001b[1;32m--> 152\u001b[1;33m         \u001b[1;32mraise\u001b[0m \u001b[0mexceptions\u001b[0m\u001b[1;33m.\u001b[0m\u001b[0mCosmosResourceNotFoundError\u001b[0m\u001b[1;33m(\u001b[0m\u001b[0mmessage\u001b[0m\u001b[1;33m=\u001b[0m\u001b[0mdata\u001b[0m\u001b[1;33m,\u001b[0m \u001b[0mresponse\u001b[0m\u001b[1;33m=\u001b[0m\u001b[0mresponse\u001b[0m\u001b[1;33m)\u001b[0m\u001b[1;33m\u001b[0m\u001b[1;33m\u001b[0m\u001b[0m\n\u001b[0m\u001b[0;32m    153\u001b[0m     \u001b[1;32mif\u001b[0m \u001b[0mresponse\u001b[0m\u001b[1;33m.\u001b[0m\u001b[0mstatus_code\u001b[0m \u001b[1;33m==\u001b[0m \u001b[1;36m409\u001b[0m\u001b[1;33m:\u001b[0m\u001b[1;33m\u001b[0m\u001b[1;33m\u001b[0m\u001b[0m\n\u001b[0;32m    154\u001b[0m         \u001b[1;32mraise\u001b[0m \u001b[0mexceptions\u001b[0m\u001b[1;33m.\u001b[0m\u001b[0mCosmosResourceExistsError\u001b[0m\u001b[1;33m(\u001b[0m\u001b[0mmessage\u001b[0m\u001b[1;33m=\u001b[0m\u001b[0mdata\u001b[0m\u001b[1;33m,\u001b[0m \u001b[0mresponse\u001b[0m\u001b[1;33m=\u001b[0m\u001b[0mresponse\u001b[0m\u001b[1;33m)\u001b[0m\u001b[1;33m\u001b[0m\u001b[1;33m\u001b[0m\u001b[0m\n",
      "\u001b[1;31mCosmosResourceNotFoundError\u001b[0m: (NotFound) Message: {\"Errors\":[\"Resource Not Found. Learn more: https:\\/\\/aka.ms\\/cosmosdb-tsg-not-found\"]}\r\nActivityId: 388618d3-c97b-4d40-9148-f6f67f286ad7, Request URI: /apps/333bb622-85f3-4eee-985e-02c5c8fba767/services/2672b9d1-47b7-4042-addc-127c8e19836c/partitions/c38d20d3-6f4e-4228-9648-435501a62c24/replicas/132646592385133951s, RequestStats: \r\nRequestStartTime: 2021-05-14T09:03:40.1653791Z, RequestEndTime: 2021-05-14T09:03:40.1653791Z,  Number of regions attempted:1\r\nResponseTime: 2021-05-14T09:03:40.1653791Z, StoreResult: StorePhysicalAddress: rntbd://10.0.0.21:11300/apps/333bb622-85f3-4eee-985e-02c5c8fba767/services/2672b9d1-47b7-4042-addc-127c8e19836c/partitions/c38d20d3-6f4e-4228-9648-435501a62c24/replicas/132646592385133951s, LSN: 19, GlobalCommittedLsn: 19, PartitionKeyRangeId: , IsValid: True, StatusCode: 404, SubStatusCode: 0, RequestCharge: 1, ItemLSN: -1, SessionToken: -1#19, UsingLocalLSN: False, TransportException: null, ResourceType: Collection, OperationType: Read\r\nResponseTime: 2021-05-14T09:03:40.1653791Z, StoreResult: StorePhysicalAddress: rntbd://10.0.0.22:11000/apps/333bb622-85f3-4eee-985e-02c5c8fba767/services/2672b9d1-47b7-4042-addc-127c8e19836c/partitions/c38d20d3-6f4e-4228-9648-435501a62c24/replicas/132646592385133953s, LSN: 19, GlobalCommittedLsn: 19, PartitionKeyRangeId: , IsValid: True, StatusCode: 404, SubStatusCode: 0, RequestCharge: 1, ItemLSN: -1, SessionToken: -1#19, UsingLocalLSN: False, TransportException: null, ResourceType: Collection, OperationType: Read\r\n, SDK: Microsoft.Azure.Documents.Common/2.11.0"
     ]
    }
   ],
   "source": [
    "data = list(myclient.getAll())\n",
    "l = len(data)\n",
    "print(l)\n",
    "print(data[l-1])\n",
    "# for i in data\n",
    "#     print(i)"
   ]
  },
  {
   "cell_type": "code",
   "execution_count": 100,
   "metadata": {},
   "outputs": [
    {
     "ename": "AttributeError",
     "evalue": "'AzureCosmos' object has no attribute 'delAll'",
     "output_type": "error",
     "traceback": [
      "\u001b[1;31m---------------------------------------------------------------------------\u001b[0m",
      "\u001b[1;31mAttributeError\u001b[0m                            Traceback (most recent call last)",
      "\u001b[1;32m<ipython-input-100-aa70c31c6aef>\u001b[0m in \u001b[0;36m<module>\u001b[1;34m\u001b[0m\n\u001b[1;32m----> 1\u001b[1;33m \u001b[0mmyclient\u001b[0m\u001b[1;33m.\u001b[0m\u001b[0mdelAll\u001b[0m\u001b[1;33m(\u001b[0m\u001b[1;33m)\u001b[0m\u001b[1;33m\u001b[0m\u001b[1;33m\u001b[0m\u001b[0m\n\u001b[0m",
      "\u001b[1;31mAttributeError\u001b[0m: 'AzureCosmos' object has no attribute 'delAll'"
     ]
    }
   ],
   "source": [
    "myclient.delAll()"
   ]
  },
  {
   "cell_type": "code",
   "execution_count": null,
   "metadata": {},
   "outputs": [],
   "source": [
    "import pydocumentdb;\n",
    "import pydocumentdb.document_client as document_client\n",
    "\n",
    "config = {\n",
    "    'ENDPOINT': \"https://synapsel1nk.documents.azure.com:443/\",\n",
    "    'MASTERKEY': \"r0EEApAfBwKARscLmgjPzdAYVVxFbLy5pOf2AU0yLL6FrcHFjySI3NYnb5zpHSvVPFkvRKI4yUTTRIZTmt4mCg==\",\n",
    "    'DOCUMENTDB_DATABASE': \"lvtn_database\",\n",
    "    'DOCUMENTDB_COLLECTION': 'parser_data'\n",
    "};\n",
    "\n",
    "# Initialize the Python DocumentDB client\n",
    "client = document_client.DocumentClient(config['ENDPOINT'], {'masterKey': config['MASTERKEY']})\n",
    "\n",
    "# use a SQL based query to get a bunch of documents\n",
    "query = { 'query': 'SELECT * FROM server s' }\n",
    "\n",
    "options = {}\n",
    "options['enableCrossPartitionQuery'] = True\n",
    "options['maxItemCount'] = 2\n",
    "\n",
    "result_iterable = client.QueryDocuments('dbs/familydb/colls/familycoll', query, options)\n",
    "\n",
    "results = list(result_iterable);\n",
    "\n",
    "print(results)\n",
    "\n",
    "client.DeleteDocument('dbs/familydb/colls/familycoll/docs/id1',options)\n",
    "\n",
    "print 'delete success"
   ]
  },
  {
   "cell_type": "code",
   "execution_count": 20,
   "metadata": {},
   "outputs": [],
   "source": [
    "a = \"\"\"Alok Khandai\n",
    "Operational Analyst (SQL DBA) Engineer - UNISYS\n",
    "\n",
    "Bengaluru, Karnataka - Email me on Indeed: indeed.com/r/Alok-Khandai/5be849e443b8f467\n",
    "\n",
    "❖ Having 3.5 Years of IT experience in SQL Database Administration, System Analysis, Design,\n",
    "Development & Support of MS SQL Servers in Production, Development environments &\n",
    "Replication and Cluster Server Environments.\n",
    "❖ Working Experience with relational database such as SQL.\n",
    "❖ Experience in Installation, Configuration, Maintenance and Administration of SQL Server.\n",
    "❖ Experience in upgrading SQL Server.\n",
    "❖ Good experience with implementing DR solution, High Availability of database servers using\n",
    "Database mirroring and replications and Log Shipping.\n",
    "❖ Experience in implementing SQL Server security and Object permissions like maintaining\n",
    "Database authentication modes, creation of users, configuring permissions and assigning roles\n",
    "to users.\n",
    "❖ Experience in creating Jobs, Alerts, SQL Mail Agent\n",
    "❖ Experience in performing integrity checks. Methods include configuring the database\n",
    "maintenance plan wizard and DBCC utilities\n",
    "❖ Experience in using Performance Monitor, SQL Profiler and optimizing the queries, tracing long\n",
    "running queries and deadlocks.\n",
    "❖ Experience in applying patches and service packs to keep the database at current patch level.\n",
    "❖ Ability to manage own work and multitask to meet tight deadlines without losing sight of\n",
    "priorities..\n",
    "\n",
    "Willing to relocate to: Bengaluru, Karnataka\n",
    "\n",
    "WORK EXPERIENCE\n",
    "\n",
    "Operational Analyst (SQL DBA) Engineer\n",
    "\n",
    "UNISYS -  Bengaluru, Karnataka -\n",
    "\n",
    "July 2016 to Present\n",
    "\n",
    "❖ Having 3.5 Years of IT experience in SQL Database Administration, System Analysis, Design,\n",
    "Development & Support of MS SQL Servers in Production, Development environments &\n",
    "Replication and Cluster Server Environments.\n",
    "❖ Working Experience with relational database such as SQL.\n",
    "❖ Experience in Installation, Configuration, Maintenance and Administration of SQL Server. \n",
    "❖ Experience in upgrading SQL Server.\n",
    "❖ Good experience with implementing DR solution, High Availability of database servers using\n",
    "Database mirroring and replications and Log Shipping.\n",
    "❖ Experience in implementing SQL Server security and Object permissions like maintaining\n",
    "Database authentication modes, creation of users, configuring permissions and assigning roles\n",
    "to users.\n",
    "\n",
    "DBA Support Analyst\n",
    "\n",
    "Microsoft Corporation -  Redmond, WA -\n",
    "\n",
    "https://www.indeed.com/r/Alok-Khandai/5be849e443b8f467?isid=rex-download&ikw=download-top&co=IN\n",
    "\n",
    "\n",
    "July 2016 to Present\n",
    "\n",
    "Client Description:\n",
    "Microsoft Corporation is an American public multinational corporation headquartered in\n",
    "Redmond, Washington, USA that develops, manufactures, licenses, and supports a wide range of\n",
    "products and services predominantly related to computing through its various product divisions.\n",
    "\n",
    "Environment:\n",
    "Microsoft has E2E development and production environment of more than 25000 servers and\n",
    "applications. We are responsible for pro-active monitoring of all the servers and their jobs using\n",
    "monitoring tools to reduce critical business impact by alerting respective peer teams. Microsoft\n",
    "Service Enterprise an ITSM tools are used for ticketing and SharePoint portal is used to store all\n",
    "technical and process documentation.\n",
    "\n",
    "Roles and Responsibilities:\n",
    "• Responsible for Database support, troubleshooting, planning and migration. Resource planning\n",
    "and coordination for application migrations with project managers, application and web app\n",
    "teams. Project involved guidance and adherence to standardized procedures for planned data\n",
    "center consolidation for worldwide centers using in-house corporate and third party applications\n",
    "based on SQL 2000 in upgrade project to SQL 2005.\n",
    "• Monitoring of database size and disk space in Production, Staging & Development environments\n",
    "• Performed installation of SQL Enterprise 2005 64bit version on Windows 2003 servers on\n",
    "Enterprise systems of clustered and standalone servers in enterprise Data Centers. Patch\n",
    "applications.\n",
    "• Failover cluster testing and resolution on HP servers as well as monitoring and backup reporting\n",
    "setup with Microsoft Operations Manager and backup teams.\n",
    "• Working in Microsoft production environment which includes applications and servers.\n",
    "• Configured Transactional Replication and Log Shipping with SQL Server Management Studio as\n",
    "well as basic account management and troubleshooting with connectivity, security and firewall\n",
    "issues.\n",
    "• Handling issues related to Server Availability, Performance.\n",
    "• Performed Production support and on Call duties\n",
    "• Conducted Performance Tuning using SQL Profiler and Windows Performance Monitor.\n",
    "• Worked with various business groups while developing their applications, assisting in database\n",
    "design, installing SQL Server clients, phasing from development to QA and to Production\n",
    "environment.\n",
    "\n",
    "Previous Project\n",
    "❖ Project Title: Finance Support\n",
    "❖ Client: Costco Wholesale Corporation (USA)\n",
    "❖ Team size: 22\n",
    "❖ Role: DBA Support Analyst\n",
    "❖ Environment: Window 10\n",
    "\n",
    "(SQL DBA Analyst) Engineer\n",
    "\n",
    "HCL Technologies -  Bengaluru, Karnataka -\n",
    "\n",
    "November 2014 to July 2016\n",
    "\n",
    "〓 Performed server installation and configurations for SQL Server 2005 and SQL Server 2000.\n",
    "\n",
    "\n",
    "\n",
    "〓 Performed installation of SQL Server Service Packs\n",
    "〓 Upgraded databases from SQL Server 2000 to SQL Server 2005.\n",
    "〓 Scheduled Full and Transactional log backups for the user created and system databases in\n",
    "the production environment using the Database Maintenance Plan Wizard.\n",
    "〓 Setup backup and restoration jobs for development and QA environments\n",
    "〓 Created transactional replication for the reporting applications.\n",
    "〓 Implemented disaster recovery solution at the remote site for the production databases using\n",
    "Log Shipping.\n",
    "〓 Used System monitor to find the bottlenecks in CPU, Disk I/O and memory devices and\n",
    "improved the database server performance.\n",
    "〓 Used SQL Server Profiler to monitor and record database activities of particular users and\n",
    "applications.\n",
    "〓 Used DBCC commands to troubleshoot issues related to database consistency\n",
    "〓 Worked with various business groups while developing their applications, assisting in database\n",
    "design, installing SQL Server clients, phasing from development to QA and to Production\n",
    "environment\n",
    "\n",
    "Microsoft Corporation -\n",
    "\n",
    "November 2014 to July 2016\n",
    "\n",
    "Client Description:\n",
    "\n",
    "❖ Costco Wholesale Corporation operates an international chain of membership warehouses,\n",
    "mainly under the \"Costco Wholesale\" name, that carry quality, brand name merchandise at\n",
    "substantially lower prices than are typically found at conventional wholesale or retail sources. The\n",
    "warehouses are designed to help small-to-medium-sized businesses reduce costs in purchasing\n",
    "for resale and for everyday business use. Individuals may also purchase for their personal needs.\n",
    "\n",
    "❖ Responsibilities:\n",
    "\n",
    "➢ Performed server installation and configurations for SQL Server 2005 and SQL Server 2000.\n",
    "➢ Performed installation of SQL Server Service Packs\n",
    "➢ Upgraded databases from SQL Server 2000 to SQL Server 2005.\n",
    "➢ Scheduled Full and Transactional log backups for the user created and system databases in\n",
    "the production environment using the Database Maintenance Plan Wizard.\n",
    "➢ Setup backup and restoration jobs for development and QA environments\n",
    "➢ Created transactional replication for the reporting applications.\n",
    "➢ Implemented disaster recovery solution at the remote site for the production databases using\n",
    "Log Shipping.\n",
    "➢ Used System monitor to find the bottlenecks in CPU, Disk I/O and memory devices and improved\n",
    "the database server performance.\n",
    "➢ Used SQL Server Profiler to monitor and record database activities of particular users and\n",
    "applications.\n",
    "➢ Used DBCC commands to troubleshoot issues related to database consistency\n",
    "➢ Worked with various business groups while developing their applications, assisting in database\n",
    "design, installing SQL Server clients, phasing from development to QA and to Production\n",
    "environment\n",
    "\n",
    "\n",
    "\n",
    "EDUCATION\n",
    "\n",
    "B.Tech in Computer Science and Engineering in CSE\n",
    "\n",
    "Indira Gandhi Institute Of Technology\n",
    "\n",
    "2012\n",
    "\n",
    "SKILLS\n",
    "\n",
    "Database (3 years), SQL (3 years), Sql Dba\n",
    "\n",
    "ADDITIONAL INFORMATION\n",
    "\n",
    "TECHNICAL PROFICIENCY\n",
    "❖ Operating Environment: […] Windows95/98/XP/NT\n",
    "❖ Database Tool: SQL Management Studio (MSSQL), Business\n",
    "Development Studio, Visual studio 2005\n",
    "❖ Database Language: SQL, PL/SQL\n",
    "❖ Ticket Tracking Tool: Service Now\n",
    "❖ Reporting Tools: MS Reporting Services, SAS\n",
    "❖ Languages: C, C++, PL/SQL\"\"\""
   ]
  },
  {
   "cell_type": "code",
   "execution_count": 29,
   "metadata": {},
   "outputs": [
    {
     "name": "stdout",
     "output_type": "stream",
     "text": [
      "74\n"
     ]
    },
    {
     "data": {
      "text/plain": [
       "'Loại tin Bán nhà riêng'"
      ]
     },
     "execution_count": 29,
     "metadata": {},
     "output_type": "execute_result"
    }
   ],
   "source": [
    "b = \"\"\"Nhà Đẹp phố Đội Cấn, diện tích 38m2, xây 05 tầng, mặt tiền 4.1m, giá 4.7 t\\nLoại tin Bán nhà riêng\\nVị trí nhà cách 20m ra mặt ngõ lớn 279 Đội Cấn, đường ô tô tránh, cả ngõ có 5-6 nhà. Tương lai mở rộng ngõ 279 nhà cách ngõ vài mét ( sau này ngõ 279 thành phố Đại Yên) giá trị nhà tăng chóng mặt. Diện tích 38m2, xây 05 tầng, mặt tiền rộng 4,1m, nhà còn rất mới, phù hợp cho việc vừa ở vừa kinh doanh, hoặc cho thuê văn phòng.Nhà chủ nhà tự xây, khung BTCT chắc chắn, thiết kế hiện đại+Tầng 1: 1 Phòng rộng + bếp + vs.+ Tầng 2: P khách + 1 ngủ + vs.+ Tầng 3+4: Mỗi tầng 2 ngủ + vs.+ Tầng 5: P. Thờ + sân phơi.Sổ đỏ chính chủ, pháp lý rõ ràng, sẵn sang giao dịchGiá: 4.7 tỷ có thương lượng cho khách có thiện trí.Liên Hệ: Thanh Tùng: 0912142902. Quý khách gọi ngay để được tư vấn nhiệt tình và xem nhà miễn phí. Nhà mới, ở ngay, ngõ nông, kinh doanh, cho thuê của hàng, văn phòng, Đội Cấn, Ba Đình  Liên hệ:  0912 142 90209121*** hiện số\\nTên liên hệ: Phan Thanh Tùng\\nGiá 4,7 Tỷ\\nBán nhà riêng tại Đường Đội Cấn - Phường Đội Cấn -  Ba Đình -  Hà Nôi\\nĐiện tích 38 m²\\nSố tầng 5\\nSố phòng 0\\nhôm nay\\n0912142902\\nMặt tiền 0 m\"\"\"\n",
    "\n",
    "_b = \"Nhà Đẹp phố Đội Cấn, diện tích 38m2, xây 05 tầng, mặt tiền 4.1m, giá 4.7 t\"\n",
    "print(len(_b))\n",
    "b[75:97]"
   ]
  },
  {
   "cell_type": "code",
   "execution_count": 31,
   "metadata": {},
   "outputs": [
    {
     "data": {
      "text/plain": [
       "'BÁN GẤP NHÀ PHỐ ĐÀO TẤN, DIỆN TÍCH 50M2, XÂY 4 TẦNG, MẶT TIỀN 5.5M, GIÁ 5.3 Khu Vực: Bán Nhà Riêng Tại Đường Đào Tấn - Phường Cống Vị - Ba Đình - Hà Nội Giá: 5,3 Tỷ  Diện tích: 50 m² hôm nay Thông tin mô tả + Nhà nằm trong ngõ 12 Đào Tấn ô tô tránh có vỉa hè, ngõ thông nhiều phố, nhà cách ô tô đúng 20m, nhà vẫn còn rất mới, khách mua về là vào ở được ngay. + Nhà mới xây được mấy năm nhưng còn rất chắc chắn. Thiết kế nhà bê tông cốt thép chắc chắn, thiết kế hiện đại, nhà bao gồm: phòng khách, bếp, 04 phòng ngủ, phòng thờ, sân phơi + Sổ đỏ chính chủ, pháp lý rõ ràng, sẵn sang giao dịch + Giá 5.3 tỷ, có thương lượng cho khách có thiện trí Liên Hệ: Thanh Tùng BĐS Ba Đình: 0912142902, Quý khách gọi ngay để được tư vấn nhiệt tình và xem nhà miễn phí Cần Bán, ở ngay, ngõ thoáng, nhà còn mới, Ngõ thông, Đào Tấn, Ba Đình Liên hệ: 09121*** hiện số Loại tin rao Bán nhà riêng Pháp lý Sổ Hồng Số phòng 0 Đường vào 0 m Mặt tiền 0 m Số tầng 4 Số toilet 0 Thông tin liên hệ Tên liên hệ: Phan Thanh Tùng Loại tin: Môi giới Địa chỉ: Ba Đình Tỉnh thành Hà Nội Điện thoại: 0912142902 Email: thanhtungks68@gmail.com'"
      ]
     },
     "execution_count": 31,
     "metadata": {},
     "output_type": "execute_result"
    }
   ],
   "source": [
    "c = \"\"\"BÁN GẤP NHÀ PHỐ ĐÀO TẤN, DIỆN TÍCH 50M2, XÂY 4 TẦNG, MẶT TIỀN 5.5M, GIÁ 5.3\n",
    "Khu Vực: Bán Nhà Riêng Tại Đường Đào Tấn - Phường Cống Vị - Ba Đình - Hà Nội\n",
    "Giá: 5,3 Tỷ \n",
    "Diện tích: 50 m²\n",
    "hôm nay\n",
    "Thông tin mô tả\n",
    "+ Nhà nằm trong ngõ 12 Đào Tấn ô tô tránh có vỉa hè, ngõ thông nhiều phố, nhà cách ô tô đúng 20m, nhà vẫn còn rất mới, khách mua về là vào ở được ngay.\n",
    "+ Nhà mới xây được mấy năm nhưng còn rất chắc chắn. Thiết kế nhà bê tông cốt thép chắc chắn, thiết kế hiện đại, nhà bao gồm: phòng khách, bếp, 04 phòng ngủ, phòng thờ, sân phơi\n",
    "+ Sổ đỏ chính chủ, pháp lý rõ ràng, sẵn sang giao dịch\n",
    "+ Giá 5.3 tỷ, có thương lượng cho khách có thiện trí\n",
    "Liên Hệ: Thanh Tùng BĐS Ba Đình: 0912142902, Quý khách gọi ngay để được tư vấn nhiệt tình và xem nhà miễn phí\n",
    "Cần Bán, ở ngay, ngõ thoáng, nhà còn mới, Ngõ thông, Đào Tấn, Ba Đình\n",
    "Liên hệ: 09121*** hiện số\n",
    "Loại tin rao\tBán nhà riêng\n",
    "Pháp lý\tSổ Hồng\n",
    "Số phòng\t0\n",
    "Đường vào\t0 m\n",
    "Mặt tiền\t0 m\n",
    "Số tầng\t4\n",
    "Số toilet\t0\n",
    "Thông tin liên hệ\n",
    "Tên liên hệ:\tPhan Thanh Tùng\n",
    "Loại tin:\tMôi giới\n",
    "Địa chỉ:\tBa Đình\n",
    "Tỉnh thành\tHà Nội\n",
    "Điện thoại:\t0912142902\n",
    "Email:\tthanhtungks68@gmail.com\"\"\"\n",
    "c = c.replace(\"\\t\",\" \").replace(\"\\n\",\" \")\n",
    "c"
   ]
  },
  {
   "cell_type": "code",
   "execution_count": 1,
   "metadata": {},
   "outputs": [
    {
     "data": {
      "text/plain": [
       "'quoc-minh'"
      ]
     },
     "execution_count": 1,
     "metadata": {},
     "output_type": "execute_result"
    }
   ],
   "source": [
    "from slugify import slugify\n",
    "slugify(\"quốc minh\")"
   ]
  },
  {
   "cell_type": "code",
   "execution_count": null,
   "metadata": {},
   "outputs": [],
   "source": [
    "import re\n",
    "\n",
    "regex_sub_url = re.compile(\"([a-z][-a-z]*)?ban-[-a-z]+((.htm)|(/[0-9]+))?\")\n",
    "regex_post = re.compile(\"([a-z][-a-z]+)?[/][a-z][-a-z0-9]+/[-a-z0-9]+.htm\")"
   ]
  },
  {
   "cell_type": "code",
   "execution_count": 1,
   "metadata": {},
   "outputs": [],
   "source": [
    "import pymongo\n",
    "from database import DBObject\n",
    "from bs4 import BeautifulSoup\n",
    "db = DBObject()\n"
   ]
  },
  {
   "cell_type": "code",
   "execution_count": 52,
   "metadata": {},
   "outputs": [],
   "source": [
    "# list_post_url = [\"dc200708228fdab9d7e978ae164b8c5f\", \"84e44afd9138f304b33d4f9fe41a1f7e\",\"58531fb36a4dd176332efa5f44989da5\"]\n",
    "# l = db.query_html_db(query_dict={\"$or\":[{\"url_hash\":url_hash} for url_hash in list_post_url]},sort=[(\"url_hash\",1)])\n"
   ]
  },
  {
   "cell_type": "code",
   "execution_count": 53,
   "metadata": {},
   "outputs": [
    {
     "data": {
      "text/plain": [
       "[('08', '2021'), ('09', '2021'), ('10', '2021')]"
      ]
     },
     "execution_count": 53,
     "metadata": {},
     "output_type": "execute_result"
    }
   ],
   "source": [
    "def d_range(_crawl_date):\n",
    "    try:\n",
    "        _from = [int(i) for i in _crawl_date[\"from\"].split(\"/\")]\n",
    "        _to   = [int(i) for i in _crawl_date[\"to\"].split(\"/\")]\n",
    "        result = []\n",
    "        for y in range(_from[1],_to[1] + 1):\n",
    "            for m in range(_from[0] if y == _from[1] else 1, (_to[0] + 1) if y == _to[1] else 13):\n",
    "                result.append((str(m) if m>9 else (\"0\" + str(m)),str(y)))\n",
    "        return result\n",
    "    except:\n",
    "        return []\n",
    "# \n",
    "d_range({\"from\":\"8/2021\",\"to\":\"10/2021\"})"
   ]
  },
  {
   "cell_type": "code",
   "execution_count": 66,
   "metadata": {},
   "outputs": [],
   "source": [
    "\n",
    "_site        = \"batdongsan.com.vn\"\n",
    "_crawl_date  = {\"from\":\"6/2022\",\"to\":\"10/2021\"}\n",
    "\n",
    "list_filter = []\n",
    "\n",
    "if _site in [\"batdongsan.com.vn\",\"chotot.com\",\"nhadat247.com.vn\"]:\n",
    "    list_filter.append({\"url\":{\"$regex\":\"^https://%s/.*$\"%(_site)}})\n",
    "\n",
    "_d_range = d_range(_crawl_date)\n",
    "if len(_d_range) > 0:\n",
    "    list_filter.append({\"$or\":[{\"date\":{\"$regex\":\"^[0-9]{2}/%s/%s$\"%(m,y)}} for m,y in d_range(_crawl_date)]})\n",
    "    \n",
    "l = db.query_html_db(query_dict={\"$and\":list_filter}, limit=0)"
   ]
  },
  {
   "cell_type": "code",
   "execution_count": 67,
   "metadata": {},
   "outputs": [
    {
     "data": {
      "text/plain": [
       "100"
      ]
     },
     "execution_count": 67,
     "metadata": {},
     "output_type": "execute_result"
    }
   ],
   "source": [
    "len(l)"
   ]
  },
  {
   "cell_type": "code",
   "execution_count": 6,
   "metadata": {},
   "outputs": [
    {
     "data": {
      "text/plain": [
       "<pymongo.results.InsertOneResult at 0x2559ec4f0c0>"
      ]
     },
     "execution_count": 6,
     "metadata": {},
     "output_type": "execute_result"
    }
   ],
   "source": [
    "info = {\"worker_id\":\"64875478\",\"name\":\"worker01\",\"info\":None}\n",
    "db.db_object.db_worker.insert_one(info)"
   ]
  },
  {
   "cell_type": "code",
   "execution_count": 3,
   "metadata": {},
   "outputs": [
    {
     "name": "stdout",
     "output_type": "stream",
     "text": [
      "{'_id': ObjectId('60e12b4b3731cee1bf0247f0'), 'worker_id': '64875478', 'name': 'worker01', 'info': None}\n"
     ]
    }
   ],
   "source": [
    "for i in db.query_wokers_info(\"64875478\"):\n",
    "    print(i)"
   ]
  },
  {
   "cell_type": "code",
   "execution_count": null,
   "metadata": {},
   "outputs": [],
   "source": []
  },
  {
   "cell_type": "code",
   "execution_count": null,
   "metadata": {},
   "outputs": [],
   "source": []
  }
 ],
 "metadata": {
  "kernelspec": {
   "display_name": "Python 3",
   "language": "python",
   "name": "python3"
  },
  "language_info": {
   "codemirror_mode": {
    "name": "ipython",
    "version": 3
   },
   "file_extension": ".py",
   "mimetype": "text/x-python",
   "name": "python",
   "nbconvert_exporter": "python",
   "pygments_lexer": "ipython3",
   "version": "3.8.8"
  }
 },
 "nbformat": 4,
 "nbformat_minor": 4
}
